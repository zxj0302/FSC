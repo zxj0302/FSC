{
 "cells": [
  {
   "cell_type": "code",
   "execution_count": 35,
   "outputs": [],
   "source": [
    "import math\n",
    "import time\n",
    "import torch\n",
    "import torch.nn as nn\n",
    "import torch.optim as optim\n",
    "import matplotlib.pyplot as plt\n",
    "import scipy.special as sp\n",
    "import numpy as np\n",
    "import json"
   ],
   "metadata": {
    "collapsed": false,
    "ExecuteTime": {
     "end_time": "2023-12-07T11:10:09.325680Z",
     "start_time": "2023-12-07T11:10:09.314542Z"
    }
   },
   "id": "4fabf6b6a8eaa88a"
  },
  {
   "cell_type": "code",
   "execution_count": 36,
   "outputs": [],
   "source": [
    "# !put seed here, because I want nn.Sequential and others like train_loader and sample_generator to\n",
    "# produce the same init/sample at each run, so that I can find the problem and solve it\n",
    "# torch.manual_seed(20010302)"
   ],
   "metadata": {
    "collapsed": false,
    "ExecuteTime": {
     "end_time": "2023-12-07T11:10:09.333157Z",
     "start_time": "2023-12-07T11:10:09.318607Z"
    }
   },
   "id": "7d7f1638811e2eb"
  },
  {
   "cell_type": "code",
   "execution_count": 37,
   "outputs": [],
   "source": [
    "input_size = 100\n",
    "hidden_1 = 10\n",
    "hidden_2 = 20\n",
    "output_size = 1\n",
    "\n",
    "# Create the MLP model using nn.Sequential\n",
    "MLP = nn.Sequential(\n",
    "    nn.Linear(input_size, 1),\n",
    "    # nn.ReLU()\n",
    "    # nn.Linear(hidden_1, output_size)\n",
    "    # nn.ReLU(),\n",
    "    # nn.Linear(hidden_2, output_size)\n",
    ")"
   ],
   "metadata": {
    "collapsed": false,
    "ExecuteTime": {
     "end_time": "2023-12-07T11:10:09.333790Z",
     "start_time": "2023-12-07T11:10:09.323821Z"
    }
   },
   "id": "a5c5024c45643f13"
  },
  {
   "cell_type": "code",
   "execution_count": 38,
   "outputs": [],
   "source": [
    "# Define training model\n",
    "def train(model, criterion, optimizer, train_loader, number_epochs):\n",
    "    # print(list(MLP.parameters()))\n",
    "    loss_list = []\n",
    "\n",
    "    for epoch in range(number_epochs):\n",
    "        loss_run = 0\n",
    "        for batch_x, batch_y in train_loader:\n",
    "            # params = list(model.parameters())\n",
    "            # print(f'Params: {params}')\n",
    "\n",
    "            # forward pass\n",
    "            outputs = model(batch_x)\n",
    "            loss = criterion(outputs, batch_y)\n",
    "\n",
    "            # backward + optimize\n",
    "            optimizer.zero_grad()\n",
    "            loss.backward()\n",
    "            optimizer.step()\n",
    "\n",
    "            # loss and accuracy record\n",
    "            loss_run += loss.item()\n",
    "\n",
    "        loss_run /= len(train_loader)\n",
    "        loss_list.append(loss_run)\n",
    "\n",
    "        if (epoch + 1) % 100 == 0:\n",
    "            print(f'Epoch [{epoch + 1}/{number_epochs}], Loss: {loss_run:.4f}')\n",
    "\n",
    "    # draw the curves\n",
    "    plt.semilogy(loss_list)\n",
    "    plt.xlabel('Epochs')\n",
    "    plt.ylabel('Loss')\n",
    "    plt.title('Training Loss')\n",
    "    plt.show()"
   ],
   "metadata": {
    "collapsed": false,
    "ExecuteTime": {
     "end_time": "2023-12-07T11:10:09.333866Z",
     "start_time": "2023-12-07T11:10:09.329814Z"
    }
   },
   "id": "6914bb8b1a902361"
  },
  {
   "cell_type": "code",
   "execution_count": 39,
   "outputs": [],
   "source": [
    "with open('data.json', 'r') as f:\n",
    "    data = json.load(f)"
   ],
   "metadata": {
    "collapsed": false,
    "ExecuteTime": {
     "end_time": "2023-12-07T11:10:09.365527Z",
     "start_time": "2023-12-07T11:10:09.334249Z"
    }
   },
   "id": "bc9866ed33a04e0d"
  },
  {
   "cell_type": "code",
   "execution_count": 40,
   "outputs": [],
   "source": [
    "# make train loader\n",
    "num_samples = 1000\n",
    "batch_size = 20\n",
    "x = torch.randint(low = 0, high = 100, size = (num_samples, input_size), dtype=torch.float)\n",
    "y = torch.tensor([[sum(sp.binom(i, 3) * j for i, j in enumerate(s))] for s in x], dtype=torch.float)\n",
    "train_loader = torch.utils.data.DataLoader(torch.utils.data.TensorDataset(x, y), batch_size=batch_size, shuffle=True)"
   ],
   "metadata": {
    "collapsed": false,
    "ExecuteTime": {
     "end_time": "2023-12-07T11:10:09.921886Z",
     "start_time": "2023-12-07T11:10:09.367370Z"
    }
   },
   "id": "9acc4811ef0fbf18"
  },
  {
   "cell_type": "code",
   "execution_count": 41,
   "outputs": [
    {
     "name": "stdout",
     "output_type": "stream",
     "text": [
      "Epoch [100/1000], Loss: 2908207447.0400\n",
      "Epoch [200/1000], Loss: 634152.4519\n",
      "Epoch [300/1000], Loss: 5578.7520\n",
      "Epoch [400/1000], Loss: 4717.8240\n",
      "Epoch [500/1000], Loss: 4456.9600\n",
      "Epoch [600/1000], Loss: 4261.6320\n",
      "Epoch [700/1000], Loss: 4107.7760\n",
      "Epoch [800/1000], Loss: 3984.3840\n",
      "Epoch [900/1000], Loss: 3931.3920\n",
      "Epoch [1000/1000], Loss: 3856.6400\n"
     ]
    },
    {
     "data": {
      "text/plain": "<Figure size 640x480 with 1 Axes>",
      "image/png": "[encoded data removed]"
     },
     "metadata": {},
     "output_type": "display_data"
    }
   ],
   "source": [
    "learning_rate = 1\n",
    "# for Adam, it needs 1500, and after 1500 it will be overfit and loss will increase. the learning rate should be 1 or more\n",
    "# but for SGD, it will use tens of epochs. learning rate should be 0.00001 or always get inf loss\n",
    "num_epochs = 1000\n",
    "criterion = nn.MSELoss()\n",
    "optimizer = optim.SGD(MLP.parameters(), 0.000001)\n",
    "# optimizer = optim.Adam(MLP.parameters(), lr=100, betas=(0.9, 0.999))\n",
    "\n",
    "train(MLP, criterion, optimizer, train_loader, num_epochs)"
   ],
   "metadata": {
    "collapsed": false,
    "ExecuteTime": {
     "end_time": "2023-12-07T11:10:15.395179Z",
     "start_time": "2023-12-07T11:10:09.922560Z"
    }
   },
   "id": "ab44445bd7ed387"
  },
  {
   "cell_type": "code",
   "execution_count": 42,
   "outputs": [
    {
     "name": "stdout",
     "output_type": "stream",
     "text": [
      "0.06428718566894531\n",
      "0.00045418739318847656\n",
      "test_y: 199086912.0    predict: 199086912.00    error: 0.0\n",
      "test_y: 217585760.0    predict: 217585744.00    error: 7.353e-08\n",
      "test_y: 203560464.0    predict: 203560448.00    error: 7.86e-08\n",
      "test_y: 187599184.0    predict: 187599232.00    error: 2.559e-07\n",
      "test_y: 190106768.0    predict: 190106752.00    error: 8.416e-08\n",
      "test_y: 207810048.0    predict: 207810048.00    error: 0.0\n",
      "test_y: 165632096.0    predict: 165632160.00    error: 3.864e-07\n",
      "test_y: 167573744.0    predict: 167573776.00    error: 1.91e-07\n",
      "test_y: 201234144.0    predict: 201234144.00    error: 0.0\n",
      "test_y: 177974160.0    predict: 177974176.00    error: 8.99e-08\n",
      "test_y: 181335360.0    predict: 181335488.00    error: 7.059e-07\n",
      "test_y: 168236400.0    predict: 168236416.00    error: 9.51e-08\n",
      "test_y: 216667808.0    predict: 216667744.00    error: 2.954e-07\n",
      "test_y: 193012144.0    predict: 193012144.00    error: 0.0\n",
      "test_y: 200839152.0    predict: 200839072.00    error: 3.983e-07\n",
      "test_y: 206168720.0    predict: 206168576.00    error: 6.985e-07\n",
      "test_y: 215251984.0    predict: 215251936.00    error: 2.23e-07\n",
      "test_y: 177434496.0    predict: 177434640.00    error: 8.116e-07\n",
      "test_y: 197774272.0    predict: 197774272.00    error: 0.0\n",
      "test_y: 199341552.0    predict: 199341616.00    error: 3.211e-07\n",
      "test_y: 206689520.0    predict: 206689504.00    error: 7.741e-08\n",
      "test_y: 186627088.0    predict: 186627152.00    error: 3.429e-07\n",
      "test_y: 201533920.0    predict: 201533952.00    error: 1.588e-07\n",
      "test_y: 230856848.0    predict: 230856688.00    error: 6.931e-07\n",
      "test_y: 157060560.0    predict: 157060720.00    error: 1.019e-06\n",
      "test_y: 200689744.0    predict: 200689744.00    error: 0.0\n",
      "test_y: 168119984.0    predict: 168119968.00    error: 9.517e-08\n",
      "test_y: 191015312.0    predict: 191015328.00    error: 8.376e-08\n",
      "test_y: 170052384.0    predict: 170052496.00    error: 6.586e-07\n",
      "test_y: 159786464.0    predict: 159786448.00    error: 1.001e-07\n",
      "test_y: 191625056.0    predict: 191624976.00    error: 4.175e-07\n",
      "test_y: 175618928.0    predict: 175619040.00    error: 6.377e-07\n",
      "test_y: 183444672.0    predict: 183444656.00    error: 8.722e-08\n",
      "test_y: 204566224.0    predict: 204566240.00    error: 7.821e-08\n",
      "test_y: 230652192.0    predict: 230652064.00    error: 5.549e-07\n",
      "test_y: 191875184.0    predict: 191875184.00    error: 0.0\n",
      "test_y: 176539168.0    predict: 176539200.00    error: 1.813e-07\n",
      "test_y: 203158592.0    predict: 203158640.00    error: 2.363e-07\n",
      "test_y: 180428016.0    predict: 180428032.00    error: 8.868e-08\n",
      "test_y: 196172192.0    predict: 196172288.00    error: 4.894e-07\n",
      "test_y: 173970848.0    predict: 173970832.00    error: 9.197e-08\n",
      "test_y: 169456752.0    predict: 169456768.00    error: 9.442e-08\n",
      "test_y: 173802032.0    predict: 173802176.00    error: 8.285e-07\n",
      "test_y: 178154048.0    predict: 178154080.00    error: 1.796e-07\n",
      "test_y: 179832112.0    predict: 179832192.00    error: 4.449e-07\n",
      "test_y: 225973424.0    predict: 225973344.00    error: 3.54e-07\n",
      "test_y: 180034112.0    predict: 180034144.00    error: 1.777e-07\n",
      "test_y: 196148192.0    predict: 196148208.00    error: 8.157e-08\n",
      "test_y: 190710048.0    predict: 190710048.00    error: 0.0\n",
      "test_y: 183434864.0    predict: 183435008.00    error: 7.85e-07\n",
      "test_y: 206187792.0    predict: 206187712.00    error: 3.88e-07\n",
      "test_y: 200015104.0    predict: 200015104.00    error: 0.0\n",
      "test_y: 207962608.0    predict: 207962560.00    error: 2.308e-07\n",
      "test_y: 193766000.0    predict: 193766064.00    error: 3.303e-07\n",
      "test_y: 198278784.0    predict: 198278656.00    error: 6.456e-07\n",
      "test_y: 210953072.0    predict: 210953072.00    error: 0.0\n",
      "test_y: 186737568.0    predict: 186737568.00    error: 0.0\n",
      "test_y: 172322160.0    predict: 172322272.00    error: 6.499e-07\n",
      "test_y: 205358608.0    predict: 205358512.00    error: 4.675e-07\n",
      "test_y: 196306576.0    predict: 196306496.00    error: 4.075e-07\n",
      "test_y: 177733184.0    predict: 177733184.00    error: 0.0\n",
      "test_y: 171374448.0    predict: 171374496.00    error: 2.801e-07\n",
      "test_y: 204027024.0    predict: 204026976.00    error: 2.353e-07\n",
      "test_y: 198170032.0    predict: 198170160.00    error: 6.459e-07\n",
      "test_y: 226765744.0    predict: 226765744.00    error: 0.0\n",
      "test_y: 215201200.0    predict: 215201120.00    error: 3.717e-07\n",
      "test_y: 206271952.0    predict: 206272032.00    error: 3.878e-07\n",
      "test_y: 197656656.0    predict: 197656576.00    error: 4.047e-07\n",
      "test_y: 184468368.0    predict: 184468384.00    error: 8.674e-08\n",
      "test_y: 188826224.0    predict: 188826208.00    error: 8.473e-08\n",
      "test_y: 210155968.0    predict: 210156016.00    error: 2.284e-07\n",
      "test_y: 186099728.0    predict: 186099824.00    error: 5.159e-07\n",
      "test_y: 197421136.0    predict: 197421056.00    error: 4.052e-07\n",
      "test_y: 195378000.0    predict: 195378080.00    error: 4.095e-07\n",
      "test_y: 182312656.0    predict: 182312688.00    error: 1.755e-07\n",
      "test_y: 167631904.0    predict: 167631968.00    error: 3.818e-07\n",
      "test_y: 180155616.0    predict: 180155680.00    error: 3.552e-07\n",
      "test_y: 157644720.0    predict: 157644704.00    error: 1.015e-07\n",
      "test_y: 200237792.0    predict: 200237744.00    error: 2.397e-07\n",
      "test_y: 212115056.0    predict: 212115072.00    error: 7.543e-08\n",
      "test_y: 205583952.0    predict: 205583936.00    error: 7.783e-08\n",
      "test_y: 190718464.0    predict: 190718368.00    error: 5.034e-07\n",
      "test_y: 186440096.0    predict: 186440112.00    error: 8.582e-08\n",
      "test_y: 175534976.0    predict: 175535088.00    error: 6.38e-07\n",
      "test_y: 185843568.0    predict: 185843568.00    error: 0.0\n",
      "test_y: 202378944.0    predict: 202378912.00    error: 1.581e-07\n",
      "test_y: 189299408.0    predict: 189299392.00    error: 8.452e-08\n",
      "test_y: 170031264.0    predict: 170031232.00    error: 1.882e-07\n",
      "test_y: 208416320.0    predict: 208416256.00    error: 3.071e-07\n",
      "test_y: 166958448.0    predict: 166958464.00    error: 9.583e-08\n",
      "test_y: 191961808.0    predict: 191961840.00    error: 1.667e-07\n",
      "test_y: 204087216.0    predict: 204087168.00    error: 2.352e-07\n",
      "test_y: 173719328.0    predict: 173719376.00    error: 2.763e-07\n",
      "test_y: 215997216.0    predict: 215997120.00    error: 4.445e-07\n",
      "test_y: 185835568.0    predict: 185835536.00    error: 1.722e-07\n",
      "test_y: 209030512.0    predict: 209030400.00    error: 5.358e-07\n",
      "test_y: 206029152.0    predict: 206029264.00    error: 5.436e-07\n",
      "test_y: 183525600.0    predict: 183525616.00    error: 8.718e-08\n",
      "test_y: 197202992.0    predict: 197202976.00    error: 8.113e-08\n",
      "test_y: 199936320.0    predict: 199936384.00    error: 3.201e-07\n"
     ]
    }
   ],
   "source": [
    "test_x = torch.randint(low = 0, high = 100, size = (100, input_size), dtype=torch.float)\n",
    "s1 = time.time()\n",
    "test_y = torch.tensor([[sum(sp.binom(i, 3) * j for i, j in enumerate(s))] for s in test_x], dtype=torch.float)\n",
    "e1 = time.time()\n",
    "print(e1-s1)\n",
    "\n",
    "s2 = time.time()\n",
    "res = MLP(test_x)\n",
    "e2 = time.time()\n",
    "print(e2-s2)\n",
    "\n",
    "for i in range(100):\n",
    "    print(f'test_y: {test_y[i].item()}    predict: {res[i].item():.2f}    error: {max(test_y[i].item()/res[i].item()-1, res[i].item()/test_y[i].item()-1):.4}')"
   ],
   "metadata": {
    "collapsed": false,
    "ExecuteTime": {
     "end_time": "2023-12-07T11:10:15.470371Z",
     "start_time": "2023-12-07T11:10:15.396149Z"
    }
   },
   "id": "171b97124f40f3"
  },
  {
   "cell_type": "code",
   "execution_count": 43,
   "outputs": [
    {
     "data": {
      "text/plain": "<Figure size 640x480 with 1 Axes>",
      "image/png": "[encoded data removed]"
     },
     "metadata": {},
     "output_type": "display_data"
    },
    {
     "name": "stdout",
     "output_type": "stream",
     "text": [
      "mean error: 2.933767754071948e-07\n",
      "time_formula: 1.3148069381713867e-05\n",
      "time_slp: 1.0587215423583984e-05\n"
     ]
    }
   ],
   "source": [
    "time_list_escape = []\n",
    "time_list_MLP = []\n",
    "dimension_list = []\n",
    "error_list = []\n",
    "for i in range(1000):\n",
    "    a = np.random.randint(low=0, high=100, size=input_size)\n",
    "    a_t = torch.tensor(a, dtype=torch.float)\n",
    "    t1 = time.time()\n",
    "    # b = sum(sp.binom(i, 3) * j for i, j in enumerate(a))\n",
    "    b = sum(math.comb(i, 3) * j for i, j in enumerate(a))\n",
    "    t2 = time.time()\n",
    "    c = MLP(a_t)\n",
    "    t3 = time.time()\n",
    "    r = c[0].item()\n",
    "    time_list_escape.append(t2-t1)\n",
    "    time_list_MLP.append(t3-t2)\n",
    "    dimension_list.append(sum(a))\n",
    "    error_list.append(max(r/b-1, b/r-1))\n",
    "    \n",
    "plt.scatter(dimension_list, time_list_escape, c='k', label='Combination')\n",
    "plt.scatter(dimension_list, time_list_MLP, c='y', label='MLP')\n",
    "plt.xlabel('dimension')\n",
    "plt.ylabel('time')\n",
    "plt.title('time vs dimension')\n",
    "plt.legend()\n",
    "plt.show()\n",
    "\n",
    "print(f'mean error: {np.mean(error_list)}')\n",
    "print(f'time_formula: {np.mean(time_list_escape)}')\n",
    "print(f'time_slp: {np.mean(time_list_MLP)}')\n",
    "# print(list(MLP.parameters()))"
   ],
   "metadata": {
    "collapsed": false,
    "ExecuteTime": {
     "end_time": "2023-12-07T11:10:15.619546Z",
     "start_time": "2023-12-07T11:10:15.472212Z"
    }
   },
   "id": "53eaad34541de33b"
  }
 ],
 "metadata": {
  "kernelspec": {
   "display_name": "Python 3",
   "language": "python",
   "name": "python3"
  },
  "language_info": {
   "codemirror_mode": {
    "name": "ipython",
    "version": 2
   },
   "file_extension": ".py",
   "mimetype": "text/x-python",
   "name": "python",
   "nbconvert_exporter": "python",
   "pygments_lexer": "ipython2",
   "version": "2.7.6"
  }
 },
 "nbformat": 4,
 "nbformat_minor": 5
}
