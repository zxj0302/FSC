{
 "cells": [
  {
   "cell_type": "code",
   "execution_count": 23,
   "outputs": [],
   "source": [
    "import math\n",
    "import time\n",
    "import torch\n",
    "import torch.nn as nn\n",
    "import torch.optim as optim\n",
    "import torch.utils.data as data\n",
    "import matplotlib.pyplot as plt\n",
    "import json\n",
    "import os"
   ],
   "metadata": {
    "collapsed": false,
    "ExecuteTime": {
     "end_time": "2023-12-20T08:25:36.919544Z",
     "start_time": "2023-12-20T08:25:36.916913Z"
    }
   },
   "id": "4fabf6b6a8eaa88a"
  },
  {
   "cell_type": "code",
   "execution_count": 24,
   "outputs": [],
   "source": [
    "# !put seed here, because I want nn.Sequential and others like train_loader and sample_generator to\n",
    "# produce the same init/sample at each run, so that I can find the problem and solve it\n",
    "# torch.manual_seed(20010302)\n",
    "device = torch.device(\"cpu\")\n",
    "# print(device)"
   ],
   "metadata": {
    "collapsed": false,
    "ExecuteTime": {
     "end_time": "2023-12-20T08:25:36.924358Z",
     "start_time": "2023-12-20T08:25:36.921595Z"
    }
   },
   "id": "7d7f1638811e2eb"
  },
  {
   "cell_type": "code",
   "execution_count": 25,
   "outputs": [],
   "source": [
    "input_size = 150\n",
    "output_size = 15\n",
    "\n",
    "# Create the MLP model using nn.Sequential\n",
    "MLP = nn.Sequential(\n",
    "    nn.Linear(input_size, 100),\n",
    "    nn.ReLU(),\n",
    "    nn.Linear(100, 15)\n",
    ").to(device)\n",
    "\n",
    "# A specific loss function for a concrete problem\n",
    "class CustomLoss(nn.Module):\n",
    "    def __init__(self):\n",
    "        super(CustomLoss, self).__init__()\n",
    "    \n",
    "    def forward(self, y_pred, y_label):\n",
    "        y_pred = torch.max(y_pred, torch.ones_like(y_pred)) ** 2\n",
    "        y_label = torch.max(y_label, torch.ones_like(y_label)) ** 2\n",
    "        loss = torch.mean(y_label/y_pred + y_pred/y_label)\n",
    "        return loss"
   ],
   "metadata": {
    "collapsed": false,
    "ExecuteTime": {
     "end_time": "2023-12-20T08:25:36.934865Z",
     "start_time": "2023-12-20T08:25:36.927624Z"
    }
   },
   "id": "a5c5024c45643f13"
  },
  {
   "cell_type": "code",
   "execution_count": 26,
   "outputs": [],
   "source": [
    "# Define training model\n",
    "def train(model, criterion, optimizer, train_loader, number_epochs):\n",
    "    # print(list(MLP.parameters()))\n",
    "    loss_list = []\n",
    "\n",
    "    for epoch in range(number_epochs):\n",
    "        loss_run = 0\n",
    "        for batch_x, batch_y in train_loader:\n",
    "            batch_x, batch_y = batch_x.to(device), batch_y.to(device)\n",
    "\n",
    "            # forward pass\n",
    "            outputs = model(batch_x)\n",
    "            loss = criterion(outputs, batch_y)\n",
    "\n",
    "            # backward + optimize\n",
    "            optimizer.zero_grad()\n",
    "            loss.backward()\n",
    "            optimizer.step()\n",
    "\n",
    "            # loss and accuracy record\n",
    "            loss_run += loss.item()\n",
    "\n",
    "        loss_run /= len(train_loader)\n",
    "        loss_list.append(loss_run)\n",
    "\n",
    "        if (epoch + 1) % 100 == 0:\n",
    "            print(f'Epoch [{epoch + 1}/{number_epochs}], Loss: {loss_run:.4f}')\n",
    "\n",
    "    # draw the curves\n",
    "    plt.semilogy(loss_list)\n",
    "    plt.xlabel('Epochs')\n",
    "    plt.ylabel('Loss')\n",
    "    plt.title('Training Loss')\n",
    "    plt.show()"
   ],
   "metadata": {
    "collapsed": false,
    "ExecuteTime": {
     "end_time": "2023-12-20T08:25:36.939355Z",
     "start_time": "2023-12-20T08:25:36.933904Z"
    }
   },
   "id": "6914bb8b1a902361"
  },
  {
   "cell_type": "code",
   "execution_count": 27,
   "outputs": [],
   "source": [
    "# make train_loader & test_loader \n",
    "with open('data.json', 'r') as f:\n",
    "    data_raw = json.load(f)\n",
    "    \n",
    "x_raw = torch.tensor([[int(i) for i in k.split()] for k in data_raw.keys()], dtype=torch.float)\n",
    "y_raw = torch.tensor(list(data_raw.values()), dtype=torch.float)\n",
    "dataset = data.TensorDataset(x_raw, y_raw)\n",
    "train_dataset, test_dataset = data.random_split(dataset, [int(len(dataset) * 0.8), len(dataset) - int(len(dataset) * 0.8)])\n",
    "train_loader = data.DataLoader(train_dataset, batch_size=int(len(train_dataset)), shuffle=True)\n",
    "test_loader = data.DataLoader(test_dataset, batch_size=1, shuffle=True)"
   ],
   "metadata": {
    "collapsed": false,
    "ExecuteTime": {
     "end_time": "2023-12-20T08:25:37.820004Z",
     "start_time": "2023-12-20T08:25:36.940497Z"
    }
   },
   "id": "8df54329e8ee191a"
  },
  {
   "cell_type": "code",
   "execution_count": null,
   "outputs": [
    {
     "name": "stdout",
     "output_type": "stream",
     "text": [
      "Epoch [100/10000], Loss: 1313043840.0000\n",
      "Epoch [200/10000], Loss: 814278080.0000\n",
      "Epoch [300/10000], Loss: 635701632.0000\n",
      "Epoch [400/10000], Loss: 547168832.0000\n",
      "Epoch [500/10000], Loss: 484111648.0000\n",
      "Epoch [600/10000], Loss: 435304800.0000\n",
      "Epoch [700/10000], Loss: 398585568.0000\n",
      "Epoch [800/10000], Loss: 369803008.0000\n",
      "Epoch [900/10000], Loss: 348309216.0000\n",
      "Epoch [1000/10000], Loss: 328978336.0000\n",
      "Epoch [1100/10000], Loss: 311203488.0000\n",
      "Epoch [1200/10000], Loss: 294505056.0000\n",
      "Epoch [1300/10000], Loss: 278537280.0000\n",
      "Epoch [1400/10000], Loss: 264770272.0000\n",
      "Epoch [1500/10000], Loss: 252611856.0000\n",
      "Epoch [1600/10000], Loss: 241413024.0000\n",
      "Epoch [1700/10000], Loss: 232009376.0000\n",
      "Epoch [1800/10000], Loss: 222609712.0000\n",
      "Epoch [1900/10000], Loss: 213221536.0000\n",
      "Epoch [2000/10000], Loss: 204540368.0000\n",
      "Epoch [2100/10000], Loss: 196201200.0000\n",
      "Epoch [2200/10000], Loss: 188091552.0000\n",
      "Epoch [2300/10000], Loss: 182062752.0000\n",
      "Epoch [2400/10000], Loss: 176462176.0000\n",
      "Epoch [2500/10000], Loss: 170892400.0000\n",
      "Epoch [2600/10000], Loss: 165360688.0000\n",
      "Epoch [2700/10000], Loss: 159875312.0000\n",
      "Epoch [2800/10000], Loss: 154447680.0000\n",
      "Epoch [2900/10000], Loss: 149088448.0000\n",
      "Epoch [3000/10000], Loss: 143955376.0000\n",
      "Epoch [3100/10000], Loss: 139346096.0000\n",
      "Epoch [3200/10000], Loss: 134873424.0000\n",
      "Epoch [3300/10000], Loss: 130525696.0000\n",
      "Epoch [3400/10000], Loss: 126314432.0000\n",
      "Epoch [3500/10000], Loss: 122230320.0000\n",
      "Epoch [3600/10000], Loss: 118267528.0000\n",
      "Epoch [3700/10000], Loss: 114418920.0000\n",
      "Epoch [3800/10000], Loss: 110679088.0000\n",
      "Epoch [3900/10000], Loss: 107049768.0000\n",
      "Epoch [4000/10000], Loss: 103556472.0000\n",
      "Epoch [4100/10000], Loss: 100452936.0000\n",
      "Epoch [4200/10000], Loss: 97382616.0000\n"
     ]
    }
   ],
   "source": [
    "# train the model\n",
    "learning_rate = 1e-5\n",
    "\n",
    "num_epochs = 10000\n",
    "# criterion = nn.MSELoss().to(device)\n",
    "criterion = CustomLoss().to(device)\n",
    "\n",
    "optimizer = optim.Adam(MLP.parameters(), lr=1, betas=(0.9, 0.999))\n",
    "# optimizer = optim.SGD(MLP.parameters(), learning_rate)\n",
    "\n",
    "# print(next(MLP.parameters()).device)\n",
    "\n",
    "train(MLP, criterion, optimizer, train_loader, num_epochs)"
   ],
   "metadata": {
    "collapsed": false,
    "is_executing": true,
    "ExecuteTime": {
     "start_time": "2023-12-20T08:25:37.821125Z"
    }
   },
   "id": "ab44445bd7ed387"
  },
  {
   "cell_type": "code",
   "execution_count": null,
   "outputs": [],
   "source": [
    "os.system('truncate -s 0 predicts.output')\n",
    "q_errors = [(0,0)]*output_size\n",
    "for inputs, labels in test_loader:\n",
    "    outputs = MLP(inputs)\n",
    "    # loss = criterion(outputs, labels)\n",
    "    outputs = [max(1, round(float(i))) for i in outputs[0]]\n",
    "    q_error = [float(max(outputs[i]/labels[0][i], labels[0][i]/outputs[i])) for i in range(len(outputs))]\n",
    "    q_error = [0 if math.isnan(e) else round(e, 2) for e in q_error]\n",
    "    with open('predicts.output', 'a') as outfile:\n",
    "        outfile.write(str(q_error)+'\\n')\n",
    "    q_errors = [(round(q_errors[i][0]+q_error[i],  2), q_errors[i][1]+1) if math.isinf(q_error[i])==False else q_errors[i] for i in range(output_size)]\n",
    "print(q_errors)\n",
    "print([round(t[0]/t[1], 2) for t in q_errors])"
   ],
   "metadata": {
    "collapsed": false,
    "is_executing": true
   },
   "id": "171b97124f40f3"
  }
 ],
 "metadata": {
  "kernelspec": {
   "display_name": "Python 3",
   "language": "python",
   "name": "python3"
  },
  "language_info": {
   "codemirror_mode": {
    "name": "ipython",
    "version": 2
   },
   "file_extension": ".py",
   "mimetype": "text/x-python",
   "name": "python",
   "nbconvert_exporter": "python",
   "pygments_lexer": "ipython2",
   "version": "2.7.6"
  }
 },
 "nbformat": 4,
 "nbformat_minor": 5
}
