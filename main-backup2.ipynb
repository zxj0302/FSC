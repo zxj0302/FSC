{
 "cells": [
  {
   "cell_type": "code",
   "execution_count": 16,
   "outputs": [],
   "source": [
    "import math\n",
    "import time\n",
    "import torch\n",
    "import torch.nn as nn\n",
    "import torch.optim as optim\n",
    "import torch.utils.data as data\n",
    "import matplotlib.pyplot as plt\n",
    "import json\n",
    "import os"
   ],
   "metadata": {
    "collapsed": false,
    "ExecuteTime": {
     "end_time": "2023-12-19T18:56:35.839402Z",
     "start_time": "2023-12-19T18:56:35.832604Z"
    }
   },
   "id": "4fabf6b6a8eaa88a"
  },
  {
   "cell_type": "code",
   "execution_count": 17,
   "outputs": [],
   "source": [
    "# !put seed here, because I want nn.Sequential and others like train_loader and sample_generator to\n",
    "# produce the same init/sample at each run, so that I can find the problem and solve it\n",
    "# torch.manual_seed(20010302)\n",
    "device = torch.device(\"cpu\")\n",
    "# print(device)"
   ],
   "metadata": {
    "collapsed": false,
    "ExecuteTime": {
     "end_time": "2023-12-19T18:56:35.842184Z",
     "start_time": "2023-12-19T18:56:35.837709Z"
    }
   },
   "id": "7d7f1638811e2eb"
  },
  {
   "cell_type": "code",
   "execution_count": 18,
   "outputs": [],
   "source": [
    "input_size = 100\n",
    "hidden_1 = 60\n",
    "hidden_2 = 30\n",
    "output_size = 15\n",
    "\n",
    "# Create the MLP model using nn.Sequential\n",
    "MLP = nn.Sequential(\n",
    "    nn.Linear(input_size, 100),\n",
    "    nn.ReLU(),\n",
    "    nn.Linear(100, 15)\n",
    "    # nn.Sigmoid()\n",
    "    # nn.LeakyReLU()\n",
    "    # nn.ReLU(),\n",
    "    # nn.Linear(hidden_1, hidden_2),\n",
    "    # nn.ReLU(),\n",
    "    # nn.Linear(hidden_2, output_size)\n",
    ").to(device)\n",
    "\n",
    "# A specific loss function for a concrete problem\n",
    "class CustomLoss(nn.Module):\n",
    "    def __init__(self):\n",
    "        super(CustomLoss, self).__init__()\n",
    "    \n",
    "    def forward(self, y_pred, y_label):\n",
    "        y_pred = torch.max(y_pred, torch.ones_like(y_pred)) ** 2\n",
    "        y_label = torch.max(y_label, torch.ones_like(y_label)) ** 2\n",
    "        loss = torch.mean(y_label/y_pred + y_pred/y_label)\n",
    "        return loss"
   ],
   "metadata": {
    "collapsed": false,
    "ExecuteTime": {
     "end_time": "2023-12-19T18:56:35.853942Z",
     "start_time": "2023-12-19T18:56:35.844607Z"
    }
   },
   "id": "a5c5024c45643f13"
  },
  {
   "cell_type": "code",
   "execution_count": 19,
   "outputs": [],
   "source": [
    "# Define training model\n",
    "def train(model, criterion, optimizer, train_loader, number_epochs):\n",
    "    # print(list(MLP.parameters()))\n",
    "    loss_list = []\n",
    "\n",
    "    for epoch in range(number_epochs):\n",
    "        loss_run = 0\n",
    "        for batch_x, batch_y in train_loader:\n",
    "            batch_x, batch_y = batch_x.to(device), batch_y.to(device)\n",
    "\n",
    "            # params = list(model.parameters())\n",
    "            # print(f'Params: {params}')\n",
    "            # forward pass\n",
    "            outputs = model(batch_x)\n",
    "            loss = criterion(outputs, batch_y)\n",
    "\n",
    "            # backward + optimize\n",
    "            optimizer.zero_grad()\n",
    "            loss.backward()\n",
    "            optimizer.step()\n",
    "\n",
    "            # loss and accuracy record\n",
    "            loss_run += loss.item()\n",
    "\n",
    "        loss_run /= len(train_loader)\n",
    "        loss_list.append(loss_run)\n",
    "\n",
    "        if (epoch + 1) % 100 == 0:\n",
    "            print(f'Epoch [{epoch + 1}/{number_epochs}], Loss: {loss_run:.4f}')\n",
    "\n",
    "    # draw the curves\n",
    "    plt.semilogy(loss_list)\n",
    "    plt.xlabel('Epochs')\n",
    "    plt.ylabel('Loss')\n",
    "    plt.title('Training Loss')\n",
    "    plt.show()"
   ],
   "metadata": {
    "collapsed": false,
    "ExecuteTime": {
     "end_time": "2023-12-19T18:56:35.854238Z",
     "start_time": "2023-12-19T18:56:35.850433Z"
    }
   },
   "id": "6914bb8b1a902361"
  },
  {
   "cell_type": "code",
   "execution_count": 20,
   "outputs": [],
   "source": [
    "# make train_loader & test_loader \n",
    "with open('data.json', 'r') as f:\n",
    "    data_raw = json.load(f)\n",
    "    \n",
    "x_raw = torch.tensor([[int(i) for i in k.split()] for k in data_raw.keys()], dtype=torch.float)\n",
    "y_raw = torch.tensor(list(data_raw.values()), dtype=torch.float)\n",
    "dataset = data.TensorDataset(x_raw, y_raw)\n",
    "train_dataset, test_dataset = data.random_split(dataset, [int(len(dataset) * 0.8), len(dataset) - int(len(dataset) * 0.8)])\n",
    "train_loader = data.DataLoader(train_dataset, batch_size=int(len(train_dataset)), shuffle=True)\n",
    "test_loader = data.DataLoader(test_dataset, batch_size=1, shuffle=True)"
   ],
   "metadata": {
    "collapsed": false,
    "ExecuteTime": {
     "end_time": "2023-12-19T18:56:36.018405Z",
     "start_time": "2023-12-19T18:56:35.856334Z"
    }
   },
   "id": "8df54329e8ee191a"
  },
  {
   "cell_type": "code",
   "execution_count": 21,
   "outputs": [
    {
     "name": "stdout",
     "output_type": "stream",
     "text": [
      "Epoch [100/10000], Loss: 5649119481692160.0000\n",
      "Epoch [200/10000], Loss: 4302678372909056.0000\n",
      "Epoch [300/10000], Loss: 3524577133068288.0000\n",
      "Epoch [400/10000], Loss: 2999636029603840.0000\n",
      "Epoch [500/10000], Loss: 2617022894571520.0000\n",
      "Epoch [600/10000], Loss: 2316702138236928.0000\n",
      "Epoch [700/10000], Loss: 2075009832976384.0000\n",
      "Epoch [800/10000], Loss: 1876495773466624.0000\n",
      "Epoch [900/10000], Loss: 1707955619627008.0000\n",
      "Epoch [1000/10000], Loss: 1563045436325888.0000\n",
      "Epoch [1100/10000], Loss: 1438173020291072.0000\n",
      "Epoch [1200/10000], Loss: 1329689662586880.0000\n",
      "Epoch [1300/10000], Loss: 1233156514512896.0000\n",
      "Epoch [1400/10000], Loss: 1146953702309888.0000\n",
      "Epoch [1500/10000], Loss: 1071087131557888.0000\n",
      "Epoch [1600/10000], Loss: 1003463274135552.0000\n",
      "Epoch [1700/10000], Loss: 942246165741568.0000\n",
      "Epoch [1800/10000], Loss: 887548280832000.0000\n",
      "Epoch [1900/10000], Loss: 838280643870720.0000\n",
      "Epoch [2000/10000], Loss: 793174092021760.0000\n",
      "Epoch [2100/10000], Loss: 752131451650048.0000\n",
      "Epoch [2200/10000], Loss: 714641755865088.0000\n",
      "Epoch [2300/10000], Loss: 680013783367680.0000\n",
      "Epoch [2400/10000], Loss: 648193847066624.0000\n",
      "Epoch [2500/10000], Loss: 618793252421632.0000\n",
      "Epoch [2600/10000], Loss: 591834145357824.0000\n",
      "Epoch [2700/10000], Loss: 566793210953728.0000\n",
      "Epoch [2800/10000], Loss: 543442312626176.0000\n",
      "Epoch [2900/10000], Loss: 521495700832256.0000\n",
      "Epoch [3000/10000], Loss: 500938980720640.0000\n",
      "Epoch [3100/10000], Loss: 481407583387648.0000\n",
      "Epoch [3200/10000], Loss: 463037404282880.0000\n",
      "Epoch [3300/10000], Loss: 445871225307136.0000\n",
      "Epoch [3400/10000], Loss: 429834723393536.0000\n",
      "Epoch [3500/10000], Loss: 414850421358592.0000\n",
      "Epoch [3600/10000], Loss: 400803965698048.0000\n",
      "Epoch [3700/10000], Loss: 387372227231744.0000\n",
      "Epoch [3800/10000], Loss: 374652849356800.0000\n",
      "Epoch [3900/10000], Loss: 362492320546816.0000\n",
      "Epoch [4000/10000], Loss: 350872454299648.0000\n",
      "Epoch [4100/10000], Loss: 340009542483968.0000\n",
      "Epoch [4200/10000], Loss: 329580053266432.0000\n",
      "Epoch [4300/10000], Loss: 319729411555328.0000\n",
      "Epoch [4400/10000], Loss: 310351786672128.0000\n",
      "Epoch [4500/10000], Loss: 301435904327680.0000\n",
      "Epoch [4600/10000], Loss: 292928278757376.0000\n",
      "Epoch [4700/10000], Loss: 284742641516544.0000\n",
      "Epoch [4800/10000], Loss: 276916808450048.0000\n",
      "Epoch [4900/10000], Loss: 269422543503360.0000\n",
      "Epoch [5000/10000], Loss: 262284391743488.0000\n",
      "Epoch [5100/10000], Loss: 255475660619776.0000\n",
      "Epoch [5200/10000], Loss: 248925885825024.0000\n",
      "Epoch [5300/10000], Loss: 242606931968000.0000\n",
      "Epoch [5400/10000], Loss: 236587300421632.0000\n",
      "Epoch [5500/10000], Loss: 230818236596224.0000\n",
      "Epoch [5600/10000], Loss: 225189900058624.0000\n",
      "Epoch [5700/10000], Loss: 219794464833536.0000\n",
      "Epoch [5800/10000], Loss: 214570207543296.0000\n",
      "Epoch [5900/10000], Loss: 209557661941760.0000\n",
      "Epoch [6000/10000], Loss: 204824507318272.0000\n",
      "Epoch [6100/10000], Loss: 200227499802624.0000\n",
      "Epoch [6200/10000], Loss: 195859467730944.0000\n",
      "Epoch [6300/10000], Loss: 191641709182976.0000\n",
      "Epoch [6400/10000], Loss: 187555165241344.0000\n",
      "Epoch [6500/10000], Loss: 183662683357184.0000\n",
      "Epoch [6600/10000], Loss: 179882071949312.0000\n",
      "Epoch [6700/10000], Loss: 176223430901760.0000\n",
      "Epoch [6800/10000], Loss: 172670536646656.0000\n",
      "Epoch [6900/10000], Loss: 169201226481664.0000\n",
      "Epoch [7000/10000], Loss: 165866083713024.0000\n",
      "Epoch [7100/10000], Loss: 162588923002880.0000\n",
      "Epoch [7200/10000], Loss: 159410227773440.0000\n",
      "Epoch [7300/10000], Loss: 156309060059136.0000\n",
      "Epoch [7400/10000], Loss: 153320937226240.0000\n",
      "Epoch [7500/10000], Loss: 150442772267008.0000\n",
      "Epoch [7600/10000], Loss: 147593313124352.0000\n",
      "Epoch [7700/10000], Loss: 144897667497984.0000\n",
      "Epoch [7800/10000], Loss: 142273023049728.0000\n",
      "Epoch [7900/10000], Loss: 139712350126080.0000\n",
      "Epoch [8000/10000], Loss: 137175978999808.0000\n",
      "Epoch [8100/10000], Loss: 134726673235968.0000\n",
      "Epoch [8200/10000], Loss: 132356589486080.0000\n",
      "Epoch [8300/10000], Loss: 130038615769088.0000\n",
      "Epoch [8400/10000], Loss: 127765839872000.0000\n",
      "Epoch [8500/10000], Loss: 125546709123072.0000\n",
      "Epoch [8600/10000], Loss: 123417118375936.0000\n",
      "Epoch [8700/10000], Loss: 121341575430144.0000\n",
      "Epoch [8800/10000], Loss: 119319929290752.0000\n",
      "Epoch [8900/10000], Loss: 117343615188992.0000\n",
      "Epoch [9000/10000], Loss: 115409101520896.0000\n",
      "Epoch [9100/10000], Loss: 113543164723200.0000\n",
      "Epoch [9200/10000], Loss: 111727853174784.0000\n",
      "Epoch [9300/10000], Loss: 109959668826112.0000\n",
      "Epoch [9400/10000], Loss: 108226339143680.0000\n",
      "Epoch [9500/10000], Loss: 106528191283200.0000\n",
      "Epoch [9600/10000], Loss: 104896103710720.0000\n",
      "Epoch [9700/10000], Loss: 103283662258176.0000\n",
      "Epoch [9800/10000], Loss: 101702929743872.0000\n",
      "Epoch [9900/10000], Loss: 100127196839936.0000\n",
      "Epoch [10000/10000], Loss: 98602215014400.0000\n"
     ]
    },
    {
     "data": {
      "text/plain": "<Figure size 640x480 with 1 Axes>",
      "image/png": "[encoded data removed]"
     },
     "metadata": {},
     "output_type": "display_data"
    }
   ],
   "source": [
    "# train the model\n",
    "learning_rate = 1e-5\n",
    "# for Adam, it needs 1500, and after 1500 it will be overfit and loss will increase. the learning rate should be 1 or more\n",
    "# but for SGD, it will use tens of epochs. learning rate should be 0.00001 or always get inf loss\n",
    "num_epochs = 10000\n",
    "# criterion = nn.MSELoss().to(device)\n",
    "criterion = CustomLoss().to(device)\n",
    "\n",
    "optimizer = optim.Adam(MLP.parameters(), lr=100, betas=(0.9, 0.999))\n",
    "# optimizer = optim.SGD(MLP.parameters(), learning_rate)\n",
    "\n",
    "# print(next(MLP.parameters()).device)\n",
    "\n",
    "train(MLP, criterion, optimizer, train_loader, num_epochs)"
   ],
   "metadata": {
    "collapsed": false,
    "ExecuteTime": {
     "end_time": "2023-12-19T19:05:09.722064Z",
     "start_time": "2023-12-19T18:56:36.019781Z"
    }
   },
   "id": "ab44445bd7ed387"
  },
  {
   "cell_type": "code",
   "execution_count": 22,
   "outputs": [
    {
     "name": "stdout",
     "output_type": "stream",
     "text": [
      "[(633180965.67, 2262), (113642160.33, 2249), (53292579.0, 2242), (3384567.0, 2101), (15867378592.92, 2262), (5039070535.99, 2249), (2000151.77, 2249), (551729918.21, 2242), (528255291.0, 2101), (118346386.45, 2215), (1315102483.49, 2226), (321220603.0, 2101), (80295609.0, 2096), (33871505.0, 1937), (1223940.0, 1508)]\n",
      "[279920.85, 50530.08, 23770.11, 1610.93, 7014756.23, 2240582.72, 889.35, 246088.28, 251430.41, 53429.52, 590791.77, 152889.39, 38308.97, 17486.58, 811.63]\n"
     ]
    }
   ],
   "source": [
    "os.system('truncate -s 0 predicts.output')\n",
    "q_errors = [(0,0)]*output_size\n",
    "for inputs, labels in test_loader:\n",
    "    outputs = MLP(inputs)\n",
    "    # loss = criterion(outputs, labels)\n",
    "    outputs = [max(1, round(float(i))) for i in outputs[0]]\n",
    "    q_error = [float(max(outputs[i]/labels[0][i], labels[0][i]/outputs[i])) for i in range(len(outputs))]\n",
    "    q_error = [0 if math.isnan(e) else round(e, 2) for e in q_error]\n",
    "    with open('predicts.output', 'a') as outfile:\n",
    "        outfile.write(str(q_error)+'\\n')\n",
    "    q_errors = [(round(q_errors[i][0]+q_error[i],  2), q_errors[i][1]+1) if math.isinf(q_error[i])==False else q_errors[i] for i in range(output_size)]\n",
    "print(q_errors)\n",
    "print([round(t[0]/t[1], 2) for t in q_errors])"
   ],
   "metadata": {
    "collapsed": false,
    "ExecuteTime": {
     "end_time": "2023-12-19T19:05:10.447473Z",
     "start_time": "2023-12-19T19:05:09.724888Z"
    }
   },
   "id": "171b97124f40f3"
  }
 ],
 "metadata": {
  "kernelspec": {
   "display_name": "Python 3",
   "language": "python",
   "name": "python3"
  },
  "language_info": {
   "codemirror_mode": {
    "name": "ipython",
    "version": 2
   },
   "file_extension": ".py",
   "mimetype": "text/x-python",
   "name": "python",
   "nbconvert_exporter": "python",
   "pygments_lexer": "ipython2",
   "version": "2.7.6"
  }
 },
 "nbformat": 4,
 "nbformat_minor": 5
}
