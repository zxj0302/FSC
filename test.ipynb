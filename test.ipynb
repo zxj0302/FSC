{
 "cells": [
  {
   "cell_type": "code",
   "execution_count": 4,
   "id": "initial_id",
   "metadata": {
    "collapsed": true,
    "ExecuteTime": {
     "end_time": "2023-12-19T08:54:12.139140Z",
     "start_time": "2023-12-19T08:54:12.130086Z"
    }
   },
   "outputs": [
    {
     "name": "stdout",
     "output_type": "stream",
     "text": [
      "-0.0003077740434187515=-0.07079610390501867--0.07048832986159992\n",
      "[5, 5, 5, 4, 2, 4, 5, 2, 1, 2, 5]\n",
      "[5, 5, 5, 4, 2, 4, 5, 2, 1, 2, 3, 1, 5]\n",
      "-0.018006800019673364=-0.08849512988127328--0.07048832986159992\n",
      "[2, 4, 1, 3, 5, 1, 2, 3, 2, 1, 5]\n",
      "[2, 4, 1, 3, 5, 1, 2, 3, 2, 1, 1, 3, 5]\n",
      "-0.018006800019673364=-0.08849512988127328--0.07048832986159992\n",
      "[3, 5, 4, 3, 1, 2, 2, 3, 2, 3, 3]\n",
      "[3, 5, 4, 3, 1, 2, 2, 3, 2, 3, 1, 1, 3]\n",
      "-0.014405440015738735=-0.07079610390501867--0.056390663889279935\n",
      "[3, 5, 4, 5, 1, 3, 4, 4, 5, 3, 3]\n",
      "[3, 5, 4, 5, 1, 3, 4, 4, 5, 3, 3, 4, 3]\n",
      "-0.0003077740434187515=-0.07079610390501867--0.07048832986159992\n",
      "[1, 1, 5, 4, 1, 2, 1, 5, 1, 4, 5]\n",
      "[1, 1, 5, 4, 1, 2, 1, 5, 1, 4, 5, 3, 5]\n",
      "-0.018006800019673364=-0.08849512988127328--0.07048832986159992\n",
      "[1, 5, 5, 5, 4, 2, 3, 3, 4, 1, 5]\n",
      "[1, 5, 5, 5, 4, 2, 3, 3, 4, 1, 1, 4, 5]\n",
      "-0.018006800019673364=-0.08849512988127328--0.07048832986159992\n",
      "[4, 2, 3, 3, 5, 4, 1, 2, 1, 3, 1]\n",
      "[4, 2, 3, 3, 5, 4, 1, 2, 1, 3, 4, 2, 1]\n",
      "-0.014405440015738735=-0.07079610390501867--0.056390663889279935\n",
      "[5, 1, 4, 2, 5, 5, 5, 4, 1, 4, 5]\n",
      "[5, 1, 4, 2, 5, 5, 5, 4, 1, 4, 4, 4, 5]\n",
      "0.8\n"
     ]
    }
   ],
   "source": [
    "import random\n",
    "import math\n",
    "\n",
    "def entropy(lst):\n",
    "    freq = {}\n",
    "    for item in lst:\n",
    "        if item in freq:\n",
    "            freq[str(item)] += 1\n",
    "        else:\n",
    "            freq[str(item)] = 1\n",
    "\n",
    "    entropy = 0\n",
    "    for count in freq.values():\n",
    "        prob = count / len(lst)\n",
    "        entropy -= prob * math.log2(prob)\n",
    "\n",
    "    return entropy\n",
    "\n",
    "count = 0\n",
    "for i in range(10):\n",
    "    data = [random.randint(1, 5) for _ in range(10)]\n",
    "    exp = data + [random.randint(1, 5) for _ in range(2)]\n",
    "    newint = [random.randint(1, 5)]\n",
    "    \n",
    "    a = entropy(data + newint) - entropy(data)\n",
    "    b = entropy(exp + newint) - entropy(exp)\n",
    "    \n",
    "    if a - b < 0:\n",
    "        count += 1\n",
    "        print(str(a - b)+'='+str(a)+'-'+str(b))\n",
    "        print(str(data + newint))\n",
    "        print(str(exp + newint))\n",
    "print(count/10)"
   ]
  }
 ],
 "metadata": {
  "kernelspec": {
   "display_name": "Python 3",
   "language": "python",
   "name": "python3"
  },
  "language_info": {
   "codemirror_mode": {
    "name": "ipython",
    "version": 2
   },
   "file_extension": ".py",
   "mimetype": "text/x-python",
   "name": "python",
   "nbconvert_exporter": "python",
   "pygments_lexer": "ipython2",
   "version": "2.7.6"
  }
 },
 "nbformat": 4,
 "nbformat_minor": 5
}
