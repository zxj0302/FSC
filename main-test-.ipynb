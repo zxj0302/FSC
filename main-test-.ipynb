{
 "cells": [
  {
   "cell_type": "code",
   "execution_count": 29,
   "outputs": [],
   "source": [
    "import math\n",
    "import time\n",
    "import torch\n",
    "import torch.nn as nn\n",
    "import torch.optim as optim\n",
    "import torch.utils.data as data\n",
    "import matplotlib.pyplot as plt\n",
    "import json\n",
    "import os"
   ],
   "metadata": {
    "collapsed": false,
    "ExecuteTime": {
     "end_time": "2023-12-20T06:09:33.860592Z",
     "start_time": "2023-12-20T06:09:33.850754Z"
    }
   },
   "id": "4fabf6b6a8eaa88a"
  },
  {
   "cell_type": "code",
   "execution_count": 30,
   "outputs": [],
   "source": [
    "# !put seed here, because I want nn.Sequential and others like train_loader and sample_generator to\n",
    "# produce the same init/sample at each run, so that I can find the problem and solve it\n",
    "# torch.manual_seed(20010302)\n",
    "device = torch.device(\"cpu\")\n",
    "# print(device)"
   ],
   "metadata": {
    "collapsed": false,
    "ExecuteTime": {
     "end_time": "2023-12-20T06:09:33.865586Z",
     "start_time": "2023-12-20T06:09:33.856563Z"
    }
   },
   "id": "7d7f1638811e2eb"
  },
  {
   "cell_type": "code",
   "execution_count": 31,
   "outputs": [],
   "source": [
    "input_size = 150\n",
    "output_size = 1\n",
    "eps = torch.finfo(torch.float32).eps\n",
    "\n",
    "# Create the MLP model using nn.Sequential\n",
    "MLP = nn.Sequential(\n",
    "    nn.Linear(input_size, 1),\n",
    "    # nn.ReLU(),\n",
    "    # nn.Linear(100, 1)\n",
    ").to(device)\n",
    "\n",
    "# A specific loss function for a concrete problem\n",
    "class CustomLoss(nn.Module):\n",
    "    def __init__(self):\n",
    "        super(CustomLoss, self).__init__()\n",
    "    \n",
    "    def forward(self, y_pred, y_label):\n",
    "        y_pred = torch.max(y_pred, torch.ones_like(y_pred)) ** 2\n",
    "        y_label = torch.max(y_label, torch.ones_like(y_label)) ** 2\n",
    "        loss = torch.mean(y_label/y_pred + y_pred/y_label)\n",
    "        # loss += torch.sum(torch.abs(y_pred-y_label))/len(y_label)\n",
    "        return loss"
   ],
   "metadata": {
    "collapsed": false,
    "ExecuteTime": {
     "end_time": "2023-12-20T06:09:33.882187Z",
     "start_time": "2023-12-20T06:09:33.863666Z"
    }
   },
   "id": "a5c5024c45643f13"
  },
  {
   "cell_type": "code",
   "execution_count": 32,
   "outputs": [],
   "source": [
    "# Define training model\n",
    "def train(model, criterion, optimizer, train_loader, number_epochs):\n",
    "    # print(list(MLP.parameters()))\n",
    "    loss_list = []\n",
    "\n",
    "    for epoch in range(number_epochs):\n",
    "        loss_run = 0\n",
    "        for batch_x, batch_y in train_loader:\n",
    "            batch_x, batch_y = batch_x.to(device), batch_y.to(device)\n",
    "\n",
    "            # forward pass\n",
    "            outputs = model(batch_x)\n",
    "            loss = criterion(outputs, batch_y)\n",
    "\n",
    "            # backward + optimize\n",
    "            optimizer.zero_grad()\n",
    "            loss.backward()\n",
    "            optimizer.step()\n",
    "\n",
    "            # loss and accuracy record\n",
    "            loss_run += loss.item()\n",
    "\n",
    "        loss_run /= len(train_loader)\n",
    "        loss_list.append(loss_run)\n",
    "\n",
    "        if (epoch + 1) % 100 == 0:\n",
    "            print(f'Epoch [{epoch + 1}/{number_epochs}], Loss: {loss_run:.4f}')\n",
    "\n",
    "    # draw the curves\n",
    "    plt.semilogy(loss_list)\n",
    "    plt.xlabel('Epochs')\n",
    "    plt.ylabel('Loss')\n",
    "    plt.title('Training Loss')\n",
    "    plt.show()"
   ],
   "metadata": {
    "collapsed": false,
    "ExecuteTime": {
     "end_time": "2023-12-20T06:09:33.882569Z",
     "start_time": "2023-12-20T06:09:33.870379Z"
    }
   },
   "id": "6914bb8b1a902361"
  },
  {
   "cell_type": "code",
   "execution_count": 33,
   "outputs": [],
   "source": [
    "# make train_loader & test_loader \n",
    "with open('data.json', 'r') as f:\n",
    "    data_raw = json.load(f)\n",
    "\n",
    "x_temp = [[int(i) for i in k.split()] for k in data_raw.keys()]\n",
    "# x_temp = [i + [sum(i), sum(j * k for j, k in zip(i, range(len(i)))) / 2, sum(i) ** 2, sum(i) * sum(j * k for j, k in zip(i, range(len(i)))) / 2, sum(i) ** 3] for i in x_temp]\n",
    "y_temp = [[i[3]] for i in data_raw.values()]\n",
    "# x_raw = torch.tensor([x_temp[i] for i in range(len(x_temp)) if y_temp[i][0] != 0], dtype=torch.float)\n",
    "# y_raw = torch.tensor([y_temp[i] for i in range(len(y_temp)) if y_temp[i][0] != 0], dtype=torch.float)\n",
    "dataset = data.TensorDataset(torch.tensor(x_temp, dtype=torch.float), torch.tensor(y_temp, dtype=torch.float))\n",
    "train_dataset, test_dataset = data.random_split(dataset, [int(len(dataset) * 0.8), len(dataset) - int(len(dataset) * 0.8)])\n",
    "train_loader = data.DataLoader(train_dataset, batch_size=int(len(train_dataset)/100), shuffle=True)\n",
    "test_loader = data.DataLoader(test_dataset, batch_size=1, shuffle=True)"
   ],
   "metadata": {
    "collapsed": false,
    "ExecuteTime": {
     "end_time": "2023-12-20T06:09:34.632738Z",
     "start_time": "2023-12-20T06:09:33.877896Z"
    }
   },
   "id": "8df54329e8ee191a"
  },
  {
   "cell_type": "code",
   "execution_count": 34,
   "outputs": [
    {
     "name": "stdout",
     "output_type": "stream",
     "text": [
      "Epoch [100/10000], Loss: 278.3312\n",
      "Epoch [200/10000], Loss: 162.6526\n",
      "Epoch [300/10000], Loss: 76.4103\n",
      "Epoch [400/10000], Loss: 38.7793\n",
      "Epoch [500/10000], Loss: 46.7435\n",
      "Epoch [600/10000], Loss: 90.4277\n",
      "Epoch [700/10000], Loss: 39.6639\n",
      "Epoch [800/10000], Loss: 32.5748\n",
      "Epoch [900/10000], Loss: 32.0683\n",
      "Epoch [1000/10000], Loss: 46.9464\n",
      "Epoch [1100/10000], Loss: 83.2141\n",
      "Epoch [1200/10000], Loss: 67.5872\n",
      "Epoch [1300/10000], Loss: 66.0056\n",
      "Epoch [1400/10000], Loss: 57.3535\n",
      "Epoch [1500/10000], Loss: 142.4069\n",
      "Epoch [1600/10000], Loss: 42.6894\n",
      "Epoch [1700/10000], Loss: 47.0263\n",
      "Epoch [1800/10000], Loss: 307.4044\n",
      "Epoch [1900/10000], Loss: 33.4300\n",
      "Epoch [2000/10000], Loss: 54.7675\n",
      "Epoch [2100/10000], Loss: 38.6910\n",
      "Epoch [2200/10000], Loss: 23.0251\n",
      "Epoch [2300/10000], Loss: 77.0795\n",
      "Epoch [2400/10000], Loss: 33.3365\n",
      "Epoch [2500/10000], Loss: 114.6179\n",
      "Epoch [2600/10000], Loss: 29.6825\n",
      "Epoch [2700/10000], Loss: 28.9739\n",
      "Epoch [2800/10000], Loss: 55.6310\n",
      "Epoch [2900/10000], Loss: 53.5559\n",
      "Epoch [3000/10000], Loss: 57.8714\n",
      "Epoch [3100/10000], Loss: 40.5202\n",
      "Epoch [3200/10000], Loss: 38.8967\n",
      "Epoch [3300/10000], Loss: 64.1401\n",
      "Epoch [3400/10000], Loss: 49.3664\n",
      "Epoch [3500/10000], Loss: 73.3227\n",
      "Epoch [3600/10000], Loss: 178.0834\n",
      "Epoch [3700/10000], Loss: 38.8237\n",
      "Epoch [3800/10000], Loss: 158.6522\n",
      "Epoch [3900/10000], Loss: 29.6512\n",
      "Epoch [4000/10000], Loss: 38.2562\n",
      "Epoch [4100/10000], Loss: 76.1284\n",
      "Epoch [4200/10000], Loss: 55.5584\n",
      "Epoch [4300/10000], Loss: 39.6129\n",
      "Epoch [4400/10000], Loss: 189.4994\n",
      "Epoch [4500/10000], Loss: 29.2240\n",
      "Epoch [4600/10000], Loss: 63.4321\n",
      "Epoch [4700/10000], Loss: 69.0106\n",
      "Epoch [4800/10000], Loss: 63.0099\n",
      "Epoch [4900/10000], Loss: 32.2776\n",
      "Epoch [5000/10000], Loss: 39.7375\n",
      "Epoch [5100/10000], Loss: 79.1005\n",
      "Epoch [5200/10000], Loss: 40.1167\n",
      "Epoch [5300/10000], Loss: 71.3649\n",
      "Epoch [5400/10000], Loss: 98.7542\n",
      "Epoch [5500/10000], Loss: 27.3911\n",
      "Epoch [5600/10000], Loss: 46.7748\n",
      "Epoch [5700/10000], Loss: 40.9352\n",
      "Epoch [5800/10000], Loss: 33.1079\n",
      "Epoch [5900/10000], Loss: 47.9857\n",
      "Epoch [6000/10000], Loss: 97.9758\n",
      "Epoch [6100/10000], Loss: 26.8237\n",
      "Epoch [6200/10000], Loss: 64.9070\n",
      "Epoch [6300/10000], Loss: 45.3084\n",
      "Epoch [6400/10000], Loss: 36.1289\n",
      "Epoch [6500/10000], Loss: 46.7436\n",
      "Epoch [6600/10000], Loss: 92.5288\n",
      "Epoch [6700/10000], Loss: 32.6957\n",
      "Epoch [6800/10000], Loss: 46.0095\n",
      "Epoch [6900/10000], Loss: 36.8728\n",
      "Epoch [7000/10000], Loss: 153.1194\n",
      "Epoch [7100/10000], Loss: 90.1463\n",
      "Epoch [7200/10000], Loss: 63.7225\n",
      "Epoch [7300/10000], Loss: 425.0746\n",
      "Epoch [7400/10000], Loss: 93.2858\n",
      "Epoch [7500/10000], Loss: 27.9718\n",
      "Epoch [7600/10000], Loss: 45.2480\n",
      "Epoch [7700/10000], Loss: 83.5070\n",
      "Epoch [7800/10000], Loss: 34.2789\n",
      "Epoch [7900/10000], Loss: 3566.9506\n",
      "Epoch [8000/10000], Loss: 3484.2858\n",
      "Epoch [8100/10000], Loss: 38.7268\n",
      "Epoch [8200/10000], Loss: 29.0662\n",
      "Epoch [8300/10000], Loss: 39.9994\n",
      "Epoch [8400/10000], Loss: 301.9922\n",
      "Epoch [8500/10000], Loss: 90.1570\n",
      "Epoch [8600/10000], Loss: 163.6232\n",
      "Epoch [8700/10000], Loss: 31.9163\n",
      "Epoch [8800/10000], Loss: 47.7305\n",
      "Epoch [8900/10000], Loss: 43.2368\n",
      "Epoch [9000/10000], Loss: 34.0129\n",
      "Epoch [9100/10000], Loss: 48.2002\n",
      "Epoch [9200/10000], Loss: 47.0703\n",
      "Epoch [9300/10000], Loss: 36.5423\n",
      "Epoch [9400/10000], Loss: 35.9048\n",
      "Epoch [9500/10000], Loss: 74.5833\n",
      "Epoch [9600/10000], Loss: 170.6895\n",
      "Epoch [9700/10000], Loss: 54.8412\n",
      "Epoch [9800/10000], Loss: 33.0289\n",
      "Epoch [9900/10000], Loss: 118.4960\n",
      "Epoch [10000/10000], Loss: 31.1325\n"
     ]
    },
    {
     "data": {
      "text/plain": "<Figure size 640x480 with 1 Axes>",
      "image/png": "[encoded data removed]"
     },
     "metadata": {},
     "output_type": "display_data"
    }
   ],
   "source": [
    "# train the model\n",
    "learning_rate = 1e-5\n",
    "# for Adam, it needs 1500, and after 1500 it will be overfit and loss will increase. the learning rate should be 1 or more\n",
    "# but for SGD, it will use tens of epochs. learning rate should be 0.00001 or always get inf loss\n",
    "num_epochs = 10000\n",
    "# criterion = nn.MSELoss().to(device)\n",
    "# criterion = nn.L1Loss().to(device)\n",
    "criterion = CustomLoss().to(device)\n",
    "\n",
    "# the weighe_decay here is important, and if loss line is strange, try to modify the lr and weight_decay.\n",
    "optimizer = optim.Adam(MLP.parameters(), lr=1, betas=(0.9, 0.999))\n",
    "# optimizer = optim.SGD(MLP.parameters(), learning_rate)\n",
    "\n",
    "# print(next(MLP.parameters()).device)\n",
    "\n",
    "train(MLP, criterion, optimizer, train_loader, num_epochs)"
   ],
   "metadata": {
    "collapsed": false,
    "ExecuteTime": {
     "end_time": "2023-12-20T06:21:25.507917Z",
     "start_time": "2023-12-20T06:09:34.633479Z"
    }
   },
   "id": "ab44445bd7ed387"
  },
  {
   "cell_type": "code",
   "execution_count": 35,
   "outputs": [
    {
     "name": "stdout",
     "output_type": "stream",
     "text": [
      "[(20230.36, 5830)]\n",
      "[3.47]\n"
     ]
    }
   ],
   "source": [
    "os.system('truncate -s 0 predicts.output')\n",
    "# output_size = 4\n",
    "q_errors = [(0,0)]*output_size\n",
    "for inputs, labels in test_loader:\n",
    "    outputs = MLP(inputs)\n",
    "    # loss = criterion(outputs, labels)\n",
    "    outputs = [max(1, round(float(i))) for i in outputs[0]]\n",
    "    q_error = [float(max(outputs[i]/labels[0][i], labels[0][i]/outputs[i])) for i in range(len(outputs))]\n",
    "    q_error = [0 if math.isnan(e) else round(e, 2) for e in q_error]\n",
    "    with open('predicts.output', 'a') as outfile:\n",
    "        outfile.write(str(q_error)+'\\t\\t\\t'+str(float(labels))+'\\t\\t\\t'+str(outputs)+'\\n')\n",
    "    q_errors = [(round(q_errors[i][0]+q_error[i],  2), q_errors[i][1]+1) if math.isinf(q_error[i])==False else q_errors[i] for i in range(output_size)]\n",
    "print(q_errors)\n",
    "print([round(t[0]/t[1], 2) for t in q_errors])\n",
    "# print(list(MLP.parameters()))"
   ],
   "metadata": {
    "collapsed": false,
    "ExecuteTime": {
     "end_time": "2023-12-20T06:21:25.906609Z",
     "start_time": "2023-12-20T06:21:25.509172Z"
    }
   },
   "id": "171b97124f40f3"
  }
 ],
 "metadata": {
  "kernelspec": {
   "display_name": "Python 3",
   "language": "python",
   "name": "python3"
  },
  "language_info": {
   "codemirror_mode": {
    "name": "ipython",
    "version": 2
   },
   "file_extension": ".py",
   "mimetype": "text/x-python",
   "name": "python",
   "nbconvert_exporter": "python",
   "pygments_lexer": "ipython2",
   "version": "2.7.6"
  }
 },
 "nbformat": 4,
 "nbformat_minor": 5
}
