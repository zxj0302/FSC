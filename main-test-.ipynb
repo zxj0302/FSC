{
 "cells": [
  {
   "cell_type": "code",
   "execution_count": 49,
   "outputs": [],
   "source": [
    "import math\n",
    "import time\n",
    "import torch\n",
    "import torch.nn as nn\n",
    "import torch.optim as optim\n",
    "import torch.utils.data as data\n",
    "import matplotlib.pyplot as plt\n",
    "import json\n",
    "import os"
   ],
   "metadata": {
    "collapsed": false,
    "ExecuteTime": {
     "end_time": "2023-12-20T08:24:19.267221Z",
     "start_time": "2023-12-20T08:24:19.262274Z"
    }
   },
   "id": "4fabf6b6a8eaa88a"
  },
  {
   "cell_type": "code",
   "execution_count": 50,
   "outputs": [],
   "source": [
    "# !put seed here, because I want nn.Sequential and others like train_loader and sample_generator to\n",
    "# produce the same init/sample at each run, so that I can find the problem and solve it\n",
    "# torch.manual_seed(20010302)\n",
    "device = torch.device(\"cpu\")\n",
    "# print(device)"
   ],
   "metadata": {
    "collapsed": false,
    "ExecuteTime": {
     "end_time": "2023-12-20T08:24:19.279674Z",
     "start_time": "2023-12-20T08:24:19.266644Z"
    }
   },
   "id": "7d7f1638811e2eb"
  },
  {
   "cell_type": "code",
   "execution_count": 51,
   "outputs": [],
   "source": [
    "input_size = 150\n",
    "output_size = 1\n",
    "eps = torch.finfo(torch.float32).eps\n",
    "\n",
    "# Create the MLP model using nn.Sequential\n",
    "MLP = nn.Sequential(\n",
    "    nn.Linear(input_size, 1),\n",
    ").to(device)\n",
    "\n",
    "# A specific loss function for a concrete problem\n",
    "class CustomLoss(nn.Module):\n",
    "    def __init__(self):\n",
    "        super(CustomLoss, self).__init__()\n",
    "    \n",
    "    def forward(self, y_pred, y_label):\n",
    "        y_pred = torch.max(y_pred, torch.ones_like(y_pred)) ** 2\n",
    "        y_label = torch.max(y_label, torch.ones_like(y_label)) ** 2\n",
    "        loss = torch.mean(y_label/y_pred + y_pred/y_label)\n",
    "        # loss += torch.sum(torch.abs(y_pred-y_label))/len(y_label)\n",
    "        return loss"
   ],
   "metadata": {
    "collapsed": false,
    "ExecuteTime": {
     "end_time": "2023-12-20T08:24:19.286616Z",
     "start_time": "2023-12-20T08:24:19.272642Z"
    }
   },
   "id": "a5c5024c45643f13"
  },
  {
   "cell_type": "code",
   "execution_count": 52,
   "outputs": [],
   "source": [
    "# Define training model\n",
    "def train(model, criterion, optimizer, train_loader, number_epochs):\n",
    "    # print(list(MLP.parameters()))\n",
    "    loss_list = []\n",
    "\n",
    "    for epoch in range(number_epochs):\n",
    "        loss_run = 0\n",
    "        for batch_x, batch_y in train_loader:\n",
    "            batch_x, batch_y = batch_x.to(device), batch_y.to(device)\n",
    "\n",
    "            # forward pass\n",
    "            outputs = model(batch_x)\n",
    "            loss = criterion(outputs, batch_y)\n",
    "\n",
    "            # backward + optimize\n",
    "            optimizer.zero_grad()\n",
    "            loss.backward()\n",
    "            optimizer.step()\n",
    "\n",
    "            # loss and accuracy record\n",
    "            loss_run += loss.item()\n",
    "\n",
    "        loss_run /= len(train_loader)\n",
    "        loss_list.append(loss_run)\n",
    "\n",
    "        if (epoch + 1) % 100 == 0:\n",
    "            print(f'Epoch [{epoch + 1}/{number_epochs}], Loss: {loss_run:.4f}')\n",
    "\n",
    "    # draw the curves\n",
    "    plt.semilogy(loss_list)\n",
    "    plt.xlabel('Epochs')\n",
    "    plt.ylabel('Loss')\n",
    "    plt.title('Training Loss')\n",
    "    plt.show()"
   ],
   "metadata": {
    "collapsed": false,
    "ExecuteTime": {
     "end_time": "2023-12-20T08:24:19.287776Z",
     "start_time": "2023-12-20T08:24:19.280268Z"
    }
   },
   "id": "6914bb8b1a902361"
  },
  {
   "cell_type": "code",
   "execution_count": 53,
   "outputs": [],
   "source": [
    "# make train_loader & test_loader \n",
    "with open('data.json', 'r') as f:\n",
    "    data_raw = json.load(f)\n",
    "\n",
    "x_temp = [[int(i) for i in k.split()] for k in data_raw.keys()]\n",
    "# x_temp = [i + [sum(i), sum(j * k for j, k in zip(i, range(len(i)))) / 2, sum(i) ** 2, sum(i) * sum(j * k for j, k in zip(i, range(len(i)))) / 2, sum(i) ** 3] for i in x_temp]\n",
    "y_temp = [[i[9]] for i in data_raw.values()]\n",
    "# x_raw = torch.tensor([x_temp[i] for i in range(len(x_temp)) if y_temp[i][0] != 0], dtype=torch.float)\n",
    "# y_raw = torch.tensor([y_temp[i] for i in range(len(y_temp)) if y_temp[i][0] != 0], dtype=torch.float)\n",
    "dataset = data.TensorDataset(torch.tensor(x_temp, dtype=torch.float), torch.tensor(y_temp, dtype=torch.float))\n",
    "train_dataset, test_dataset = data.random_split(dataset, [int(len(dataset) * 0.8), len(dataset) - int(len(dataset) * 0.8)])\n",
    "train_loader = data.DataLoader(train_dataset, batch_size=int(len(train_dataset)), shuffle=True)\n",
    "test_loader = data.DataLoader(test_dataset, batch_size=1, shuffle=True)"
   ],
   "metadata": {
    "collapsed": false,
    "ExecuteTime": {
     "end_time": "2023-12-20T08:24:19.961511Z",
     "start_time": "2023-12-20T08:24:19.287069Z"
    }
   },
   "id": "8df54329e8ee191a"
  },
  {
   "cell_type": "code",
   "execution_count": null,
   "outputs": [
    {
     "name": "stdout",
     "output_type": "stream",
     "text": [
      "Epoch [100/10000], Loss: 38137959022592.0000\n",
      "Epoch [200/10000], Loss: 19410995642368.0000\n",
      "Epoch [300/10000], Loss: 14574033043456.0000\n",
      "Epoch [400/10000], Loss: 11932645982208.0000\n",
      "Epoch [500/10000], Loss: 10196410695680.0000\n",
      "Epoch [600/10000], Loss: 8945188995072.0000\n",
      "Epoch [700/10000], Loss: 7990870016000.0000\n",
      "Epoch [800/10000], Loss: 7233687519232.0000\n",
      "Epoch [900/10000], Loss: 6615106846720.0000\n",
      "Epoch [1000/10000], Loss: 6098228084736.0000\n",
      "Epoch [1100/10000], Loss: 5658492534784.0000\n",
      "Epoch [1200/10000], Loss: 5278845108224.0000\n",
      "Epoch [1300/10000], Loss: 4947034767360.0000\n",
      "Epoch [1400/10000], Loss: 4654008107008.0000\n",
      "Epoch [1500/10000], Loss: 4392920023040.0000\n",
      "Epoch [1600/10000], Loss: 4158485954560.0000\n",
      "Epoch [1700/10000], Loss: 3946556424192.0000\n",
      "Epoch [1800/10000], Loss: 3753825271808.0000\n",
      "Epoch [1900/10000], Loss: 3577619152896.0000\n",
      "Epoch [2000/10000], Loss: 3415754932224.0000\n",
      "Epoch [2100/10000], Loss: 3266427748352.0000\n",
      "Epoch [2200/10000], Loss: 3128134991872.0000\n",
      "Epoch [2300/10000], Loss: 2999610245120.0000\n",
      "Epoch [2400/10000], Loss: 2879781863424.0000\n",
      "Epoch [2500/10000], Loss: 2767734439936.0000\n",
      "Epoch [2600/10000], Loss: 2662679445504.0000\n",
      "Epoch [2700/10000], Loss: 2563937927168.0000\n",
      "Epoch [2800/10000], Loss: 2470920323072.0000\n",
      "Epoch [2900/10000], Loss: 2383108898816.0000\n",
      "Epoch [3000/10000], Loss: 2300048572416.0000\n",
      "Epoch [3100/10000], Loss: 2221344292864.0000\n",
      "Epoch [3200/10000], Loss: 2146638102528.0000\n",
      "Epoch [3300/10000], Loss: 2075614904320.0000\n",
      "Epoch [3400/10000], Loss: 2007994597376.0000\n",
      "Epoch [3500/10000], Loss: 1943526703104.0000\n",
      "Epoch [3600/10000], Loss: 1881985253376.0000\n",
      "Epoch [3700/10000], Loss: 1823167086592.0000\n",
      "Epoch [3800/10000], Loss: 1766888046592.0000\n",
      "Epoch [3900/10000], Loss: 1712982065152.0000\n",
      "Epoch [4000/10000], Loss: 1661297623040.0000\n",
      "Epoch [4100/10000], Loss: 1611697094656.0000\n",
      "Epoch [4200/10000], Loss: 1564054781952.0000\n",
      "Epoch [4300/10000], Loss: 1518255341568.0000\n",
      "Epoch [4400/10000], Loss: 1474193129472.0000\n",
      "Epoch [4500/10000], Loss: 1431771545600.0000\n",
      "Epoch [4600/10000], Loss: 1390901198848.0000\n",
      "Epoch [4700/10000], Loss: 1351499513856.0000\n",
      "Epoch [4800/10000], Loss: 1313490731008.0000\n",
      "Epoch [4900/10000], Loss: 1276803809280.0000\n",
      "Epoch [5000/10000], Loss: 1241373474816.0000\n"
     ]
    }
   ],
   "source": [
    "# train the model\n",
    "learning_rate = 1e-5\n",
    "# for Adam, it needs 1500, and after 1500 it will be overfit and loss will increase. the learning rate should be 1 or more\n",
    "# but for SGD, it will use tens of epochs. learning rate should be 0.00001 or always get inf loss\n",
    "num_epochs = 10000\n",
    "# criterion = nn.MSELoss().to(device)\n",
    "# criterion = nn.L1Loss().to(device)\n",
    "criterion = CustomLoss().to(device)\n",
    "\n",
    "# the weighe_decay here is important, and if loss line is strange, try to modify the lr and weight_decay.\n",
    "optimizer = optim.Adam(MLP.parameters(), lr=1e-4, betas=(0.9, 0.999))\n",
    "# optimizer = optim.SGD(MLP.parameters(), learning_rate)\n",
    "\n",
    "# print(next(MLP.parameters()).device)\n",
    "\n",
    "train(MLP, criterion, optimizer, train_loader, num_epochs)"
   ],
   "metadata": {
    "collapsed": false,
    "is_executing": true,
    "ExecuteTime": {
     "start_time": "2023-12-20T08:24:19.961974Z"
    }
   },
   "id": "ab44445bd7ed387"
  },
  {
   "cell_type": "code",
   "execution_count": null,
   "outputs": [],
   "source": [
    "os.system('truncate -s 0 predicts.output')\n",
    "# output_size = 4\n",
    "q_errors = [(0,0)]*output_size\n",
    "for inputs, labels in test_loader:\n",
    "    outputs = MLP(inputs)\n",
    "    # loss = criterion(outputs, labels)\n",
    "    outputs = [max(1, round(float(i))) for i in outputs[0]]\n",
    "    q_error = [float(max(outputs[i]/labels[0][i], labels[0][i]/outputs[i])) for i in range(len(outputs))]\n",
    "    q_error = [0 if math.isnan(e) else round(e, 2) for e in q_error]\n",
    "    with open('predicts.output', 'a') as outfile:\n",
    "        outfile.write(str(q_error)+'\\t\\t\\t'+str(float(labels))+'\\t\\t\\t'+str(outputs)+'\\n')\n",
    "    q_errors = [(round(q_errors[i][0]+q_error[i],  2), q_errors[i][1]+1) if math.isinf(q_error[i])==False else q_errors[i] for i in range(output_size)]\n",
    "print(q_errors)\n",
    "print([round(t[0]/t[1], 2) for t in q_errors])\n",
    "# print(list(MLP.parameters()))"
   ],
   "metadata": {
    "collapsed": false,
    "is_executing": true
   },
   "id": "171b97124f40f3"
  }
 ],
 "metadata": {
  "kernelspec": {
   "display_name": "Python 3",
   "language": "python",
   "name": "python3"
  },
  "language_info": {
   "codemirror_mode": {
    "name": "ipython",
    "version": 2
   },
   "file_extension": ".py",
   "mimetype": "text/x-python",
   "name": "python",
   "nbconvert_exporter": "python",
   "pygments_lexer": "ipython2",
   "version": "2.7.6"
  }
 },
 "nbformat": 4,
 "nbformat_minor": 5
}
