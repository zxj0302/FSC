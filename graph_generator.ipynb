{
 "cells": [
  {
   "cell_type": "code",
   "execution_count": 12,
   "id": "initial_id",
   "metadata": {
    "collapsed": true,
    "ExecuteTime": {
     "end_time": "2023-12-04T16:38:48.526709Z",
     "start_time": "2023-12-04T16:38:48.518898Z"
    }
   },
   "outputs": [],
   "source": [
    "import networkx as nx\n",
    "import numpy as np\n",
    "import os\n",
    "import json"
   ]
  },
  {
   "cell_type": "code",
   "execution_count": 13,
   "outputs": [],
   "source": [
    "n_nums = np.arange(20, 500, 5)\n",
    "p_nums = np.arange(0, 26, 1)/100"
   ],
   "metadata": {
    "collapsed": false,
    "ExecuteTime": {
     "end_time": "2023-12-04T16:38:48.526932Z",
     "start_time": "2023-12-04T16:38:48.523843Z"
    }
   },
   "id": "90bbbc79980e866d"
  },
  {
   "cell_type": "code",
   "execution_count": 14,
   "outputs": [],
   "source": [
    "datasets = {}\n",
    "max_degree = 100\n",
    "for i in n_nums:\n",
    "    for j in p_nums:\n",
    "        for k in range(5):\n",
    "            G = nx.fast_gnp_random_graph(i, j)\n",
    "            with open('temp.edgelist', 'w') as file:\n",
    "                file.write(str(i)+' '+str(G.number_of_edges())+'\\n')\n",
    "                for line in nx.generate_edgelist(G, data=False):\n",
    "                    file.write(line+'\\n')\n",
    "            os.system('cd ~/Desktop/CodeLib/escape/wrappers && python3 subgraph_counts.py ~/Desktop/CodeLib/FSC/temp.edgelist 4 -i > /dev/null')\n",
    "            deg_dis = nx.degree_histogram(G)\n",
    "            if len(deg_dis) < max_degree:\n",
    "                deg_dis = ' '.join([str(deg_dis[i]) if i < len(deg_dis) else '0' for i in range(max_degree)])\n",
    "            else:\n",
    "                deg_dis = ' '.join([str(deg_dis[i]) if i < (max_degree-1) else str(sum(deg_dis[(max_degree-1):])) for i in range(max_degree)])\n",
    "            with open('/Users/zxj/Desktop/CodeLib/escape/wrappers/out.txt') as output:\n",
    "                counts = [int(float(line.split()[0])) for line in output][2:]\n",
    "            datasets[deg_dis] = counts\n",
    "\n",
    "os.system('rm temp.edgelist')        \n",
    "with open('data.json', 'w') as f:\n",
    "    f.write(json.dumps(datasets, indent=4))"
   ],
   "metadata": {
    "collapsed": false,
    "ExecuteTime": {
     "end_time": "2023-12-04T17:04:34.030625Z",
     "start_time": "2023-12-04T16:38:48.533370Z"
    }
   },
   "id": "90c990744ea3c116"
  }
 ],
 "metadata": {
  "kernelspec": {
   "display_name": "Python 3",
   "language": "python",
   "name": "python3"
  },
  "language_info": {
   "codemirror_mode": {
    "name": "ipython",
    "version": 2
   },
   "file_extension": ".py",
   "mimetype": "text/x-python",
   "name": "python",
   "nbconvert_exporter": "python",
   "pygments_lexer": "ipython2",
   "version": "2.7.6"
  }
 },
 "nbformat": 4,
 "nbformat_minor": 5
}
